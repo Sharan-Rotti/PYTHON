{
 "cells": [
  {
   "cell_type": "markdown",
   "id": "d52dc431-4919-4e48-b482-297d0070231b",
   "metadata": {},
   "source": [
    "# DICTIONARY"
   ]
  },
  {
   "cell_type": "markdown",
   "id": "508b919e-b7a3-4c29-81d8-8938ec0c57ae",
   "metadata": {},
   "source": [
    "# 1.1: Restaurant Menu Storage\n",
    "Create a dictionary where dish names serve as keys and their prices as values. Display the menu in a user-friendly format.\n",
    "Input:\n",
    "Dishes = [\"Pasta\", \"Biryani\", \"Apricot\"]\n",
    "Prices = [200, 300, 180]\n",
    "Expected Output:\n",
    "{“Pasta” : 200, ”Biryani” : 300, “Apricot” : 180}\n"
   ]
  },
  {
   "cell_type": "code",
   "execution_count": 1,
   "id": "c67a6b9d-6d51-4156-8fa3-52dee3594c68",
   "metadata": {},
   "outputs": [],
   "source": [
    "Dishes = [\"Pasta\", \"Biryani\", \"Apricot\"]\n",
    "Prices = [200, 300, 180]"
   ]
  },
  {
   "cell_type": "code",
   "execution_count": 5,
   "id": "00666a2c-a53e-46f4-94aa-0c06ab7c7c11",
   "metadata": {},
   "outputs": [],
   "source": [
    "z=zip(Dishes, Prices)"
   ]
  },
  {
   "cell_type": "code",
   "execution_count": 7,
   "id": "c6a5f178-451e-47ee-85e1-38921f3bd248",
   "metadata": {},
   "outputs": [],
   "source": [
    "d = dict(z)"
   ]
  },
  {
   "cell_type": "code",
   "execution_count": 8,
   "id": "504c5f5d-bc9e-4e33-8a9a-0279ad22153f",
   "metadata": {},
   "outputs": [
    {
     "data": {
      "text/plain": [
       "{'Pasta': 200, 'Biryani': 300, 'Apricot': 180}"
      ]
     },
     "execution_count": 8,
     "metadata": {},
     "output_type": "execute_result"
    }
   ],
   "source": [
    "d"
   ]
  },
  {
   "cell_type": "code",
   "execution_count": null,
   "id": "ee9def9e-8416-4d90-b978-2f18b9b85824",
   "metadata": {},
   "outputs": [],
   "source": []
  },
  {
   "cell_type": "markdown",
   "id": "eed19a61-58e4-48ea-b3ed-9b3d97004962",
   "metadata": {},
   "source": [
    "# 2: English-to-Spanish Translation Dictionary\n",
    "Create a dictionary for English-to-Spanish translations and return the Spanish equivalent of a given English word.\n",
    "Input:\n",
    "dictionary = {\n",
    "    \"Hello\": \"Hola\",\n",
    "    \"Thank You\": \"Gracias\",\n",
    "    \"Goodbye\": \"Adiós\"\n",
    "}\n",
    "Given word = \"Hello\"\n",
    "Expected Output:\n",
    "Hola\n"
   ]
  },
  {
   "cell_type": "code",
   "execution_count": 9,
   "id": "528048f5-db86-4aa0-87a5-1c3c9e8ce7af",
   "metadata": {},
   "outputs": [],
   "source": [
    "dictionary = {\n",
    "    \"Hello\": \"Hola\",\n",
    "    \"Thank You\": \"Gracias\",\n",
    "    \"Goodbye\": \"Adiós\"\n",
    "}"
   ]
  },
  {
   "cell_type": "code",
   "execution_count": 12,
   "id": "3c55a7b4-b932-405e-97db-1c950f87bda4",
   "metadata": {},
   "outputs": [
    {
     "data": {
      "text/plain": [
       "{'Hello': 'Hola', 'Thank You': 'Gracias', 'Goodbye': 'Adiós'}"
      ]
     },
     "execution_count": 12,
     "metadata": {},
     "output_type": "execute_result"
    }
   ],
   "source": [
    "dictionary"
   ]
  },
  {
   "cell_type": "code",
   "execution_count": 13,
   "id": "909e9cfd-a201-4770-8e61-08aa3a00d87a",
   "metadata": {},
   "outputs": [],
   "source": [
    "listofvalues= list(dictionary.values())"
   ]
  },
  {
   "cell_type": "code",
   "execution_count": 14,
   "id": "ac4268bf-3c85-4f18-a0e7-151f419c2795",
   "metadata": {},
   "outputs": [
    {
     "data": {
      "text/plain": [
       "['Hola', 'Gracias', 'Adiós']"
      ]
     },
     "execution_count": 14,
     "metadata": {},
     "output_type": "execute_result"
    }
   ],
   "source": [
    "listofvalues"
   ]
  },
  {
   "cell_type": "code",
   "execution_count": 15,
   "id": "9a9a616f-294d-408a-b0ae-2e079fda29bc",
   "metadata": {},
   "outputs": [
    {
     "data": {
      "text/plain": [
       "'Hola'"
      ]
     },
     "execution_count": 15,
     "metadata": {},
     "output_type": "execute_result"
    }
   ],
   "source": [
    "listofvalues[0]"
   ]
  },
  {
   "cell_type": "code",
   "execution_count": null,
   "id": "25cf4488-08c3-4676-a62a-b649a4300811",
   "metadata": {},
   "outputs": [],
   "source": []
  },
  {
   "cell_type": "markdown",
   "id": "405c1c34-724f-4176-bb92-42b35def9787",
   "metadata": {},
   "source": [
    "# 3: Student Grade Management\n",
    "Store student names and grades in a dictionary, allowing users to enter data and calculate the class average.\n",
    "Input:\n",
    "grades = {\n",
    "    \"Ved\": 85,\n",
    "    \"Teja\": 90,\n",
    "    \"Pavan\": 78\n",
    "}\n",
    "Expected Output:\n",
    "Average Grade: 84.3\n"
   ]
  },
  {
   "cell_type": "code",
   "execution_count": 32,
   "id": "0a4bd3ec-e1c5-4972-a08a-cc58aca804fd",
   "metadata": {},
   "outputs": [],
   "source": [
    "grades = {\n",
    "    \"Ved\": 85,\n",
    "    \"Teja\": 90,\n",
    "    \"Pavan\": 78\n",
    "}"
   ]
  },
  {
   "cell_type": "code",
   "execution_count": 34,
   "id": "f042fbc4-7c94-4631-8fa9-c3ffe51d871a",
   "metadata": {},
   "outputs": [
    {
     "data": {
      "text/plain": [
       "{'Ved': 85, 'Teja': 90, 'Pavan': 78}"
      ]
     },
     "execution_count": 34,
     "metadata": {},
     "output_type": "execute_result"
    }
   ],
   "source": [
    "grades"
   ]
  },
  {
   "cell_type": "code",
   "execution_count": 39,
   "id": "de5dee66-5882-46ad-8202-ff841e4a2c30",
   "metadata": {},
   "outputs": [],
   "source": [
    "listofmarks= list(grades.values())"
   ]
  },
  {
   "cell_type": "code",
   "execution_count": 40,
   "id": "c23c91ff-cb80-4546-9274-e1fa249fe0c4",
   "metadata": {},
   "outputs": [
    {
     "data": {
      "text/plain": [
       "[85, 90, 78]"
      ]
     },
     "execution_count": 40,
     "metadata": {},
     "output_type": "execute_result"
    }
   ],
   "source": [
    "listofmarks"
   ]
  },
  {
   "cell_type": "code",
   "execution_count": 52,
   "id": "1f9a7edb-4f1a-4505-8372-7207db69497e",
   "metadata": {},
   "outputs": [
    {
     "data": {
      "text/plain": [
       "85"
      ]
     },
     "execution_count": 52,
     "metadata": {},
     "output_type": "execute_result"
    }
   ],
   "source": [
    "listofmarks[0]"
   ]
  },
  {
   "cell_type": "code",
   "execution_count": 53,
   "id": "c68b9d28-38a1-4bf4-997c-cd1d31d02e15",
   "metadata": {},
   "outputs": [
    {
     "data": {
      "text/plain": [
       "90"
      ]
     },
     "execution_count": 53,
     "metadata": {},
     "output_type": "execute_result"
    }
   ],
   "source": [
    "listofmarks[1]"
   ]
  },
  {
   "cell_type": "code",
   "execution_count": 55,
   "id": "3f88e852-0343-475e-bbcc-6b0b58094e52",
   "metadata": {},
   "outputs": [
    {
     "data": {
      "text/plain": [
       "78"
      ]
     },
     "execution_count": 55,
     "metadata": {},
     "output_type": "execute_result"
    }
   ],
   "source": [
    "listofmarks[2]"
   ]
  },
  {
   "cell_type": "code",
   "execution_count": 68,
   "id": "e5ad46d9-6696-4bfd-9c06-ac830b1ff88f",
   "metadata": {},
   "outputs": [],
   "source": [
    "average_grade = (listofmarks[0]+listofmarks[1]+listofmarks[2])/3"
   ]
  },
  {
   "cell_type": "code",
   "execution_count": 69,
   "id": "1cbd04c4-fabf-459f-a41f-b2612115210e",
   "metadata": {},
   "outputs": [
    {
     "data": {
      "text/plain": [
       "84.33333333333333"
      ]
     },
     "execution_count": 69,
     "metadata": {},
     "output_type": "execute_result"
    }
   ],
   "source": [
    "average_grade"
   ]
  },
  {
   "cell_type": "raw",
   "id": "c440e2db-f643-4774-8528-e6e1a17046b4",
   "metadata": {},
   "source": []
  },
  {
   "cell_type": "markdown",
   "id": "449cb6f3-d044-4c90-ba3f-8c6640d0997a",
   "metadata": {},
   "source": [
    "# 4: Employee Salary Management\n",
    "Create a dictionary where employee names are keys and salaries are values. Identify the employee with the highest salary.\n",
    "Input:\n",
    "salaries = {\n",
    "    \"Ved\": 60000,\n",
    "    \"Pavan\": 75000,\n",
    "    \"Teja\": 50000\n",
    "}\n"
   ]
  },
  {
   "cell_type": "code",
   "execution_count": 92,
   "id": "f3b00e75-1cba-40df-918a-3395fb05f75a",
   "metadata": {},
   "outputs": [],
   "source": [
    "salaries = {\n",
    "    \"Ved\": 60000,\n",
    "    \"Pavan\": 75000,\n",
    "    \"Teja\": 50000\n",
    "}\n"
   ]
  },
  {
   "cell_type": "code",
   "execution_count": 93,
   "id": "f2ac56b1-4bba-445b-9e96-1cc64d36a4ae",
   "metadata": {},
   "outputs": [
    {
     "data": {
      "text/plain": [
       "{'Ved': 60000, 'Pavan': 75000, 'Teja': 50000}"
      ]
     },
     "execution_count": 93,
     "metadata": {},
     "output_type": "execute_result"
    }
   ],
   "source": [
    "salaries"
   ]
  },
  {
   "cell_type": "code",
   "execution_count": 97,
   "id": "6e70a00c-5ac3-411a-a68e-97fd32e7ff77",
   "metadata": {},
   "outputs": [
    {
     "name": "stdout",
     "output_type": "stream",
     "text": [
      "highest salary: pavan - 75000\n"
     ]
    }
   ],
   "source": [
    "print(\"highest salary: pavan -\", max(salaries.values()))"
   ]
  },
  {
   "cell_type": "code",
   "execution_count": null,
   "id": "f3a2248c-f89b-418b-ac7a-5dd0db9ba2fa",
   "metadata": {},
   "outputs": [],
   "source": []
  },
  {
   "cell_type": "markdown",
   "id": "82d46f7f-454b-4306-98a4-2572e9a47f20",
   "metadata": {},
   "source": [
    "# 5: Inventory Management System\n",
    "Store product names and stock quantities in a dictionary, and implement a function to check stock availability for a given product.\n",
    "Input:\n",
    "inventory = {\n",
    "    \"Laptop\": 5,\n",
    "    \"Mouse\": 20,\n",
    "    \"Keyboard\": 15\n",
    "}\n",
    "Given product = \"Mouse\"\n",
    "Expected Output:\n",
    "Mouse is available: 20 in stock.\n"
   ]
  },
  {
   "cell_type": "code",
   "execution_count": 98,
   "id": "516b1ded-3e6f-4c22-b6d7-2c6a7208adfb",
   "metadata": {},
   "outputs": [],
   "source": [
    "inventory = {\n",
    "    \"Laptop\": 5,\n",
    "    \"Mouse\": 20,\n",
    "    \"Keyboard\": 15\n",
    "}"
   ]
  },
  {
   "cell_type": "code",
   "execution_count": 99,
   "id": "8c56e0b8-840b-4a9c-af59-ddc7e2fce5a5",
   "metadata": {},
   "outputs": [
    {
     "name": "stdout",
     "output_type": "stream",
     "text": [
      "mouse is availabel: 20 in stock\n"
     ]
    }
   ],
   "source": [
    "print(\"mouse is availabel:\", max(inventory.values()),\"in stock\")"
   ]
  },
  {
   "cell_type": "code",
   "execution_count": null,
   "id": "2c98517c-a9e1-4fdf-9a1e-ef4d83574fe7",
   "metadata": {},
   "outputs": [],
   "source": []
  },
  {
   "cell_type": "markdown",
   "id": "bc16cda9-b860-44f4-bd8f-19181148f717",
   "metadata": {},
   "source": [
    "# 6: Word Frequency Counter\n",
    "Given a paragraph of text, count the frequency of each unique word and store it in a dictionary.\n",
    "Input:\n",
    "text = \"apple banana apple orange banana apple\"\n",
    "Expected Output:\n",
    "{'apple': 3, 'banana': 2, 'orange': 1}\n"
   ]
  },
  {
   "cell_type": "code",
   "execution_count": 101,
   "id": "ddf71869-b224-47e3-b002-f258bae43168",
   "metadata": {},
   "outputs": [],
   "source": [
    "text = \"apple banana apple orange banana apple\""
   ]
  },
  {
   "cell_type": "code",
   "execution_count": 109,
   "id": "c4f8ee14-d661-4140-87e8-3007ea3b7743",
   "metadata": {},
   "outputs": [],
   "source": [
    "s=text.split()"
   ]
  },
  {
   "cell_type": "code",
   "execution_count": 110,
   "id": "e30538bc-def5-4645-b049-4b7392daf5f5",
   "metadata": {},
   "outputs": [
    {
     "data": {
      "text/plain": [
       "['apple', 'banana', 'apple', 'orange', 'banana', 'apple']"
      ]
     },
     "execution_count": 110,
     "metadata": {},
     "output_type": "execute_result"
    }
   ],
   "source": [
    "s"
   ]
  },
  {
   "cell_type": "code",
   "execution_count": 121,
   "id": "3afa12ab-c25b-439b-a584-cc992ea101ae",
   "metadata": {},
   "outputs": [
    {
     "name": "stdout",
     "output_type": "stream",
     "text": [
      "{ 'apple' : 3 , 'banana' : 2 , 'orange' : 1 }\n"
     ]
    }
   ],
   "source": [
    "print(\"{\",\"'apple' :\",s.count('apple'),\",\",\"'banana' :\",s.count('banana'),\",\",\"'orange' :\",s.count('orange'),\"}\")"
   ]
  },
  {
   "cell_type": "code",
   "execution_count": null,
   "id": "fd937f1b-ec3f-4188-8677-48b6b8f39b15",
   "metadata": {},
   "outputs": [],
   "source": []
  },
  {
   "cell_type": "code",
   "execution_count": null,
   "id": "f02db22e-6f02-439f-9afc-81255d89249e",
   "metadata": {},
   "outputs": [],
   "source": []
  },
  {
   "cell_type": "code",
   "execution_count": null,
   "id": "fc8b9662-e089-47de-8865-cf1e26ac2b36",
   "metadata": {},
   "outputs": [],
   "source": []
  },
  {
   "cell_type": "code",
   "execution_count": null,
   "id": "88677d56-31d6-4a5f-a9d3-be45b6995141",
   "metadata": {},
   "outputs": [],
   "source": [
    "# 7: Customer Order Management\n",
    "Manage customer orders using a dictionary where the key is the order number, and the value is a list of ordered items.\n",
    "Input:\n",
    "orders = {\n",
    "    \"1001\": [\"Burger\", \"Fries\"],\n",
    "    \"1002\": [\"Pizza\", \"Soda\"]\n",
    "}\n",
    "order_id = \"1001\"\n",
    "Expected Output:\n",
    "1001 contains 2 items, they are Burger and Fries\n"
   ]
  },
  {
   "cell_type": "code",
   "execution_count": 150,
   "id": "e032d095-af3e-4ad5-b5a2-902777b774d1",
   "metadata": {},
   "outputs": [
    {
     "name": "stdin",
     "output_type": "stream",
     "text": [
      "Enter the order id: 1001\n"
     ]
    },
    {
     "name": "stdout",
     "output_type": "stream",
     "text": [
      "1001 contains 2 items, they are Burger and Fries\n"
     ]
    }
   ],
   "source": [
    "orders = {\n",
    "    \"1001\": [\"Burger\", \"Fries\"],\n",
    "    \"1002\": [\"Pizza\", \"Soda\"]\n",
    "}\n",
    "\n",
    "order_id = input('Enter the order id:')\n",
    "\n",
    "if order_id == '1001':\n",
    "    print(f\"{order_id} contains {len(orders[order_id])} items, they are {orders[order_id][0]} and {orders[order_id][1]}\")\n",
    "elif order_id == '1002':\n",
    "    print(f\"{order_id} contains {len(orders[order_id])} items, they are {orders[order_id][0]} and {orders[order_id][1]}\")\n",
    "else:\n",
    "    print('Invalid Input')"
   ]
  },
  {
   "cell_type": "code",
   "execution_count": 151,
   "id": "b02a67ac-8dd1-42d2-a97f-9ad523507657",
   "metadata": {},
   "outputs": [
    {
     "name": "stdin",
     "output_type": "stream",
     "text": [
      "Enter the order id: 1002\n"
     ]
    },
    {
     "name": "stdout",
     "output_type": "stream",
     "text": [
      "1002 contains 2 items, they are Pizza and Soda\n"
     ]
    }
   ],
   "source": [
    "orders = {\n",
    "    \"1001\": [\"Burger\", \"Fries\"],\n",
    "    \"1002\": [\"Pizza\", \"Soda\"]\n",
    "}\n",
    "\n",
    "order_id = input('Enter the order id:')\n",
    "\n",
    "if order_id == '1001':\n",
    "    print(f\"{order_id} contains {len(orders[order_id])} items, they are {orders[order_id][0]} and {orders[order_id][1]}\")\n",
    "elif order_id == '1002':\n",
    "    print(f\"{order_id} contains {len(orders[order_id])} items, they are {orders[order_id][0]} and {orders[order_id][1]}\")\n",
    "else:\n",
    "    print('Invalid Input')"
   ]
  },
  {
   "cell_type": "code",
   "execution_count": 155,
   "id": "1eeb86ca-9f71-4a8a-b5d9-56aa6be16d01",
   "metadata": {},
   "outputs": [
    {
     "name": "stdin",
     "output_type": "stream",
     "text": [
      "Enter the order id: 1003\n"
     ]
    },
    {
     "name": "stdout",
     "output_type": "stream",
     "text": [
      "1003 contains 3 items, they are Burger and Fries\n"
     ]
    }
   ],
   "source": [
    "orders = {\n",
    "    \"1001\": [\"Burger\", \"Fries\"],\n",
    "    \"1002\": [\"Pizza\", \"Soda\"], \n",
    "    \"1003\" : [ \"Burger\", \"Fries\", \"Soda\"]\n",
    "}\n",
    "\n",
    "# Taking order_id from the user \n",
    "order_id = input('Enter the order id:')\n",
    "\n",
    "# here depending upon the order if, we will get the desired result\n",
    "if order_id == '1001':\n",
    "    print(f\"{order_id} contains {len(orders[order_id])} items, they are {orders[order_id][0]} and {orders[order_id][1]}\")\n",
    "elif order_id == '1002':\n",
    "    print(f\"{order_id} contains {len(orders[order_id])} items, they are {orders[order_id][0]} and {orders[order_id][1]}\")\n",
    "elif order_id == '1003':\n",
    "    print(f\"{order_id} contains {len(orders[order_id])} items, they are {orders[order_id][0]} and {orders[order_id][1]}\")\n",
    "else:\n",
    "    print('Invalid Input')"
   ]
  },
  {
   "cell_type": "code",
   "execution_count": 153,
   "id": "73d72b31-f0ea-4e0e-81b3-318e7b58a592",
   "metadata": {},
   "outputs": [
    {
     "name": "stdin",
     "output_type": "stream",
     "text": [
      "Enter the order id: 1003\n"
     ]
    },
    {
     "name": "stdout",
     "output_type": "stream",
     "text": [
      "Invalid Input\n"
     ]
    }
   ],
   "source": [
    "orders = {\n",
    "    \"1001\": [\"Burger\", \"Fries\"],\n",
    "    \"1002\": [\"Pizza\", \"Soda\"]\n",
    "}\n",
    "\n",
    "order_id = input('Enter the order id:')\n",
    "\n",
    "if order_id == '1001':\n",
    "    print(f\"{order_id} contains {len(orders[order_id])} items, they are {orders[order_id][0]} and {orders[order_id][1]}\")\n",
    "elif order_id == '1002':\n",
    "    print(f\"{order_id} contains {len(orders[order_id])} items, they are {orders[order_id][0]} and {orders[order_id][1]}\")\n",
    "else:\n",
    "    print('Invalid Input')"
   ]
  },
  {
   "cell_type": "code",
   "execution_count": 154,
   "id": "d342af39-4128-4545-9999-8a3530aa425b",
   "metadata": {},
   "outputs": [
    {
     "name": "stdout",
     "output_type": "stream",
     "text": [
      "The even list: [2, 4, 6, 8, 10]\n",
      "--------------------\n",
      "The odd list: [1, 3, 5, 7, 9]\n"
     ]
    }
   ],
   "source": [
    "lst = [1,2,3,4,5,6,7,8,9,10]\n",
    "\n",
    "even_lst = []\n",
    "odd_lst = []\n",
    "\n",
    "for i in lst:\n",
    "    if i%2 == 0:\n",
    "        even_lst.append(i)\n",
    "    else:\n",
    "        odd_lst.append(i)\n",
    "\n",
    "print(f'The even list: {even_lst}')\n",
    "print('-'*20)\n",
    "print(f'The odd list: {odd_lst}')"
   ]
  },
  {
   "cell_type": "code",
   "execution_count": null,
   "id": "62b1cb67-9a99-4929-850a-1d13ba00196e",
   "metadata": {},
   "outputs": [],
   "source": [
    "if statement \n",
    "multiple if ---> limitation \n",
    "if else ---> when we have two condition\n",
    "if elif else ----> multiple condition\n",
    "Nested if else or nested if elif else "
   ]
  }
 ],
 "metadata": {
  "kernelspec": {
   "display_name": "Python 3 (ipykernel)",
   "language": "python",
   "name": "python3"
  },
  "language_info": {
   "codemirror_mode": {
    "name": "ipython",
    "version": 3
   },
   "file_extension": ".py",
   "mimetype": "text/x-python",
   "name": "python",
   "nbconvert_exporter": "python",
   "pygments_lexer": "ipython3",
   "version": "3.12.7"
  }
 },
 "nbformat": 4,
 "nbformat_minor": 5
}
