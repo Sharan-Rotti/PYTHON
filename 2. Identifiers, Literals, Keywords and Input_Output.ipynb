{
 "cells": [
  {
   "cell_type": "markdown",
   "metadata": {
    "id": "3NItt_DVh-fr"
   },
   "source": [
    "\n",
    "\n",
    "\n",
    "---\n",
    "\n",
    "\n",
    "\n",
    "---\n",
    "\n",
    "\n",
    "# Table of Contents\n",
    "\n",
    "\n",
    "---\n",
    "\n",
    "\n",
    "## Introduction to Python Programming\n",
    "1. Python Keywords\n",
    "2. What is an Identifier?\n",
    "3. Rules for Identifier Naming\n",
    "4. Literals--raw data types\n",
    "5. Variables\n",
    "6. print() and input()\n",
    "\n",
    "---\n",
    "\n",
    "\n",
    "\n",
    "\n",
    "\n"
   ]
  },
  {
   "cell_type": "markdown",
   "metadata": {
    "id": "tR1WHLKaUEnP"
   },
   "source": [
    "# 1. Python Keywords\n",
    ">- Keywords are the pre-defined or built-in words whose meaning is already known to python interpreter.\n",
    ">- Keywords are the reserved words in python\n",
    ">- We can't use a keyword as variable name, function name or any other identifier\n",
    ">- All the keywords except True, False and None are in lowercase and they must be written as is."
   ]
  },
  {
   "cell_type": "markdown",
   "metadata": {
    "id": "92d9fL7-V1zI"
   },
   "source": [
    "**Keyword\tDescription**\n",
    ">-   ```and```- A logical operator\n",
    ">-  ```as```-To create an alias\n",
    ">-  ```assert```-For debugging\n",
    ">-  ```break```-To break out of a loop\n",
    ">-  ```class```\t- To define a class\n",
    ">-  ```continue```-\tTo continue to the next iteration of a loop\n",
    ">-   ```def```\t-To define a function\n",
    ">-  ``` del```\t-To delete an object\n",
    ">-   ```elif```-\tUsed in conditional statements, same as else if\n",
    ">-  ```else```-Used in conditional statements\n",
    ">-  ```elif```-Used in conditional statements, same as else if\n",
    ">-  ```else```-Used in conditional statements\n",
    ">-   ```except```-Used with exceptions, what to do when an exception occurs\n",
    ">-  ```False```-Boolean value, result of comparison operations\n",
    ">-   ```finally```-Used with exceptions, a block of code that will be executed no matter if there is an exception or not\n",
    ">- ```for```-To create a for loop\n",
    ">-  ```from``` -To import specific parts of a module"
   ]
  },
  {
   "cell_type": "code",
   "execution_count": null,
   "metadata": {
    "colab": {
     "base_uri": "https://localhost:8080/"
    },
    "executionInfo": {
     "elapsed": 3,
     "status": "ok",
     "timestamp": 1687505314814,
     "user": {
      "displayName": "Meher Fatima",
      "userId": "08349742051843001487"
     },
     "user_tz": 420
    },
    "id": "ArTflThec3sE",
    "outputId": "821f1f43-d5b6-4d37-ac4d-ecaf8ddc2ed6"
   },
   "outputs": [],
   "source": [
    "# importing the module\n",
    "import keyword\n",
    "\n",
    "# printing the keywords\n",
    "print(\"Python keywords are...\")\n",
    "print(keyword.kwlist)\n",
    "len(keyword.kwlist)\n",
    "\n",
    "#there are of total 36 keywords"
   ]
  },
  {
   "cell_type": "code",
   "execution_count": null,
   "metadata": {},
   "outputs": [],
   "source": []
  },
  {
   "cell_type": "markdown",
   "metadata": {},
   "source": [
    "### Boolean expressions\n",
    "\n",
    "Boolean expressions are created with the keywords and, or, not and is. For example:"
   ]
  },
  {
   "cell_type": "code",
   "execution_count": null,
   "metadata": {
    "scrolled": true
   },
   "outputs": [],
   "source": [
    "True and False"
   ]
  },
  {
   "cell_type": "code",
   "execution_count": null,
   "metadata": {
    "scrolled": true
   },
   "outputs": [],
   "source": [
    "False or True"
   ]
  },
  {
   "cell_type": "code",
   "execution_count": null,
   "metadata": {
    "scrolled": true
   },
   "outputs": [],
   "source": [
    "not True"
   ]
  },
  {
   "cell_type": "code",
   "execution_count": null,
   "metadata": {
    "scrolled": true
   },
   "outputs": [],
   "source": [
    "True is True"
   ]
  },
  {
   "cell_type": "code",
   "execution_count": null,
   "metadata": {
    "scrolled": true
   },
   "outputs": [],
   "source": [
    "True is False"
   ]
  },
  {
   "cell_type": "code",
   "execution_count": null,
   "metadata": {
    "scrolled": true
   },
   "outputs": [],
   "source": [
    "'X' == 'Z'"
   ]
  },
  {
   "cell_type": "code",
   "execution_count": null,
   "metadata": {},
   "outputs": [],
   "source": [
    "'X' == 'X'"
   ]
  },
  {
   "cell_type": "code",
   "execution_count": null,
   "metadata": {
    "scrolled": true
   },
   "outputs": [],
   "source": [
    "10 == 15"
   ]
  },
  {
   "cell_type": "code",
   "execution_count": null,
   "metadata": {
    "scrolled": true
   },
   "outputs": [],
   "source": [
    "10 == 10"
   ]
  },
  {
   "cell_type": "code",
   "execution_count": null,
   "metadata": {
    "scrolled": true
   },
   "outputs": [],
   "source": [
    "True + True "
   ]
  },
  {
   "cell_type": "code",
   "execution_count": null,
   "metadata": {
    "scrolled": true
   },
   "outputs": [],
   "source": [
    "True - False "
   ]
  },
  {
   "cell_type": "markdown",
   "metadata": {
    "scrolled": false
   },
   "source": [
    "### Similarly you can multiply, divide etc"
   ]
  },
  {
   "cell_type": "code",
   "execution_count": null,
   "metadata": {
    "scrolled": true
   },
   "outputs": [],
   "source": [
    "True and False or True "
   ]
  },
  {
   "cell_type": "code",
   "execution_count": null,
   "metadata": {},
   "outputs": [],
   "source": []
  },
  {
   "cell_type": "markdown",
   "metadata": {
    "id": "gEWoSVu_Vrqv"
   },
   "source": [
    "# 2. What is an Identifier?\n",
    "> Identifier is the name we give to identify a variable, function, class, module or other object. That means whenever we want to give an entity a name, that’s called identifier."
   ]
  },
  {
   "cell_type": "code",
   "execution_count": null,
   "metadata": {
    "id": "gsgExnPtWRxm"
   },
   "outputs": [],
   "source": [
    "# a is a identifier\n",
    "a=10\n",
    "# abc20 is an identifier\n",
    "abc10=20"
   ]
  },
  {
   "cell_type": "markdown",
   "metadata": {
    "id": "K7n2GDaJ_fl-"
   },
   "source": [
    "# 3. Rules to define identifiers:\n",
    "1. Allowed characters => Alphabets, Digits and Underscore Symbol\n",
    "2. Identifier should never start with a digit\n",
    "3. Case Sensitive.\n",
    "4. No length limit.\n",
    "5. Can't use reserved words for identifier.\n",
    "\n",
    "\n"
   ]
  },
  {
   "cell_type": "code",
   "execution_count": null,
   "metadata": {
    "id": "8XGxS4KYWlb8"
   },
   "outputs": [],
   "source": [
    "language = 'Python'"
   ]
  },
  {
   "cell_type": "code",
   "execution_count": null,
   "metadata": {},
   "outputs": [],
   "source": [
    "language"
   ]
  },
  {
   "cell_type": "code",
   "execution_count": null,
   "metadata": {
    "colab": {
     "base_uri": "https://localhost:8080/",
     "height": 130
    },
    "executionInfo": {
     "elapsed": 11,
     "status": "error",
     "timestamp": 1689152853099,
     "user": {
      "displayName": "Meher Fatima",
      "userId": "08349742051843001487"
     },
     "user_tz": 420
    },
    "id": "RzLKQdMlWlrp",
    "outputId": "62138f39-5ef8-4a0e-af86-d8cdddc663db"
   },
   "outputs": [],
   "source": [
    "# continue is a keyword cannot be used as identifier\n",
    "continue = 'Python'"
   ]
  },
  {
   "cell_type": "code",
   "execution_count": null,
   "metadata": {
    "id": "l1J7moTBW3wm"
   },
   "outputs": [],
   "source": [
    "# we can have _ and digits in between or end\n",
    "a_b=10\n",
    "a_=10\n",
    "a1=10\n",
    "a1b=10\n"
   ]
  },
  {
   "cell_type": "code",
   "execution_count": null,
   "metadata": {
    "colab": {
     "base_uri": "https://localhost:8080/",
     "height": 130
    },
    "executionInfo": {
     "elapsed": 12,
     "status": "error",
     "timestamp": 1689154259362,
     "user": {
      "displayName": "Meher Fatima",
      "userId": "08349742051843001487"
     },
     "user_tz": 420
    },
    "id": "3cmTmUaIW39G",
    "outputId": "13e91f76-05bc-4721-9b8c-cf8b0128b095"
   },
   "outputs": [],
   "source": [
    "# but we cannot have digit in the start\n",
    "1a=10"
   ]
  },
  {
   "cell_type": "code",
   "execution_count": 1,
   "metadata": {
    "id": "iMgi-UJocKC-"
   },
   "outputs": [],
   "source": [
    "# we can have _ as the starting charactor of an identifier\n",
    "_a=10"
   ]
  },
  {
   "cell_type": "markdown",
   "metadata": {
    "id": "UBNZ61i-QHe_"
   },
   "source": [
    "# 3. Literals\n",
    "Literals in Python is defined as the raw data assigned to variables or constants while programming.\n",
    "\n",
    "**The four main datatypes are**:\n",
    "\n",
    ">- integral values: ```int```\n",
    ">- decimal values: ```float```\n",
    ">- true or false statements: ```bool```\n",
    ">- text data: ```str```\n",
    "\n",
    "Apart from these, there are many other datas type which we'll we looking at later"
   ]
  },
  {
   "cell_type": "code",
   "execution_count": null,
   "metadata": {
    "colab": {
     "base_uri": "https://localhost:8080/"
    },
    "executionInfo": {
     "elapsed": 7,
     "status": "ok",
     "timestamp": 1687505312210,
     "user": {
      "displayName": "Meher Fatima",
      "userId": "08349742051843001487"
     },
     "user_tz": 420
    },
    "id": "j1RxRlrzR3YO",
    "outputId": "48da7e19-f64b-46ba-c7db-90ce48528640"
   },
   "outputs": [],
   "source": [
    "print(\"Innomatics Research Labs\")\n"
   ]
  },
  {
   "cell_type": "code",
   "execution_count": null,
   "metadata": {
    "colab": {
     "base_uri": "https://localhost:8080/"
    },
    "executionInfo": {
     "elapsed": 6,
     "status": "ok",
     "timestamp": 1687505312211,
     "user": {
      "displayName": "Meher Fatima",
      "userId": "08349742051843001487"
     },
     "user_tz": 420
    },
    "id": "c9WvF7A0SDkV",
    "outputId": "ed01d34c-ef33-411d-fb34-1cd3248f055d"
   },
   "outputs": [],
   "source": [
    "print(type(\"Innomatics Research Labs\"))"
   ]
  },
  {
   "cell_type": "code",
   "execution_count": null,
   "metadata": {
    "colab": {
     "base_uri": "https://localhost:8080/"
    },
    "executionInfo": {
     "elapsed": 7,
     "status": "ok",
     "timestamp": 1687505312723,
     "user": {
      "displayName": "Meher Fatima",
      "userId": "08349742051843001487"
     },
     "user_tz": 420
    },
    "id": "Tcoj5uQJSGwo",
    "outputId": "c921a2c6-9294-4225-bc4e-739af10efd19"
   },
   "outputs": [],
   "source": [
    "a=10\n",
    "print(a)\n",
    "print(type(a))"
   ]
  },
  {
   "cell_type": "code",
   "execution_count": null,
   "metadata": {
    "colab": {
     "base_uri": "https://localhost:8080/"
    },
    "executionInfo": {
     "elapsed": 5,
     "status": "ok",
     "timestamp": 1687505313349,
     "user": {
      "displayName": "Meher Fatima",
      "userId": "08349742051843001487"
     },
     "user_tz": 420
    },
    "id": "hhIzw0mqSMks",
    "outputId": "ccb40745-3759-48bf-fa6c-a73e938e080c"
   },
   "outputs": [],
   "source": [
    "a=19.09\n",
    "print(a)\n",
    "print(type(a))"
   ]
  },
  {
   "cell_type": "code",
   "execution_count": null,
   "metadata": {
    "colab": {
     "base_uri": "https://localhost:8080/"
    },
    "executionInfo": {
     "elapsed": 7,
     "status": "ok",
     "timestamp": 1687505313953,
     "user": {
      "displayName": "Meher Fatima",
      "userId": "08349742051843001487"
     },
     "user_tz": 420
    },
    "id": "qBH3r4WHeXE6",
    "outputId": "71d5e8cf-e2aa-4dcf-ffeb-e38e91b470f1"
   },
   "outputs": [],
   "source": [
    "a=\"apple\"\n",
    "print(\"p\" in a)\n",
    "print(type(\"p\" in a))"
   ]
  },
  {
   "cell_type": "markdown",
   "metadata": {
    "id": "nWKDXuPxD0ba"
   },
   "source": [
    "# 4. Variables\n",
    "Variable is a data container\n",
    "\n",
    ">Rules for Variable Declaration:\n",
    ">- A variable name must start with a letter or the underscore character\n",
    ">- A variable name cannot start with a number\n",
    ">- A variable name can only contain alpha-numeric characters and underscores (A-z, 0-9, and _ )\n",
    "> - Variable names are case-sensitive (age, Age and AGE are three different variables)"
   ]
  },
  {
   "cell_type": "markdown",
   "metadata": {
    "id": "IcARklTdEM4b"
   },
   "source": [
    "```python\n",
    "# Allowed variable names\n",
    "myvar = \"innomatics\"\n",
    "my_var = \"innomatics\"\n",
    "_my_var = \"innomatics\"\n",
    "myVar = \"innomatics\"\n",
    "MYVAR = \"innomatics\"\n",
    "myvar2 = \"innomatics\"\n",
    "\n",
    "# Variable names which are not allowed\n",
    "2myvar = \"innomatics\"\n",
    "my-var = \"innomatics\"\n",
    "my var = \"innomatics\"\n",
    "```"
   ]
  },
  {
   "cell_type": "markdown",
   "metadata": {
    "id": "wzf2PTKwc_re"
   },
   "source": [
    "# type() is a function which returns type of data\n",
    "\n",
    "```python\n",
    "type()\n",
    "```"
   ]
  },
  {
   "cell_type": "code",
   "execution_count": 5,
   "metadata": {
    "colab": {
     "base_uri": "https://localhost:8080/"
    },
    "executionInfo": {
     "elapsed": 5,
     "status": "ok",
     "timestamp": 1687505319417,
     "user": {
      "displayName": "Meher Fatima",
      "userId": "08349742051843001487"
     },
     "user_tz": 420
    },
    "id": "ixmdArOIdgTH",
    "outputId": "68489a4a-feec-4f5b-9ff6-17714b85621e"
   },
   "outputs": [
    {
     "name": "stdout",
     "output_type": "stream",
     "text": [
      "<class 'int'>\n",
      "<class 'float'>\n",
      "<class 'str'>\n"
     ]
    }
   ],
   "source": [
    "a=10\n",
    "b=10.8\n",
    "c=\"welcome to innomatics\"\n",
    "print(type(a))\n",
    "print(type(b))\n",
    "print(type(c))\n"
   ]
  },
  {
   "cell_type": "markdown",
   "metadata": {
    "id": "Y5vh7QO3EmAS"
   },
   "source": [
    "# 5. print() and input()\n",
    "## print()\n",
    "The print() function prints the specified message to the screen\n",
    "### Syntax\n",
    "print(object(s), sep=separator, end=end, file=file, flush=flush)\n",
    "### Important parameters\n",
    "- object(s)-\tAny object, and as many as you like. Will be converted to string before printed\n",
    "- sep='separator'\tOptional. Specify how to separate the objects, if there is more than one. Default is ' '\n",
    "- end='end'\tOptional. Specify what to print at the end. Default is '\\n' (line feed)\n",
    "\n",
    "Return type of print() is None\n",
    "\n",
    "\n",
    "\n",
    "\n",
    "\n",
    "\n",
    "\n"
   ]
  },
  {
   "cell_type": "code",
   "execution_count": 7,
   "metadata": {
    "colab": {
     "base_uri": "https://localhost:8080/"
    },
    "executionInfo": {
     "elapsed": 5,
     "status": "ok",
     "timestamp": 1687505321144,
     "user": {
      "displayName": "Meher Fatima",
      "userId": "08349742051843001487"
     },
     "user_tz": 420
    },
    "id": "b6WW72cAEups",
    "outputId": "19b8cbcd-2d97-4726-9c12-0fdbb3e3ff52"
   },
   "outputs": [
    {
     "name": "stdout",
     "output_type": "stream",
     "text": [
      "I am awesome\n",
      "I'm awesome\n",
      "I am \"awesome\"\n",
      "I'm \"awesome\"\n",
      "I'm \"awesome\n"
     ]
    }
   ],
   "source": [
    "# getting input---- I am awesome\n",
    "print('I am awesome')\n",
    "# getting input---- I'm awesome\n",
    "print(\"I'm awesome\")\n",
    "#getting input---- I am \"awesome\"\n",
    "print('I am \"awesome\"')\n",
    "# getting input---- I'm \"awesome\"\n",
    "print('''I'm \"awesome\"''')\n",
    "print(\"\"\"I'm \"awesome\"\"\")"
   ]
  },
  {
   "cell_type": "code",
   "execution_count": 9,
   "metadata": {
    "colab": {
     "base_uri": "https://localhost:8080/"
    },
    "executionInfo": {
     "elapsed": 3,
     "status": "ok",
     "timestamp": 1687505321628,
     "user": {
      "displayName": "Meher Fatima",
      "userId": "08349742051843001487"
     },
     "user_tz": 420
    },
    "id": "XdCHDwpoGREw",
    "outputId": "f3fd3d76-7708-4888-d7b4-3bf61daa98d7"
   },
   "outputs": [
    {
     "name": "stdout",
     "output_type": "stream",
     "text": [
      "3 4\n"
     ]
    }
   ],
   "source": [
    "# Using sep by default it is space\n",
    "print('3','4')\n"
   ]
  },
  {
   "cell_type": "code",
   "execution_count": 11,
   "metadata": {
    "colab": {
     "base_uri": "https://localhost:8080/"
    },
    "executionInfo": {
     "elapsed": 3,
     "status": "ok",
     "timestamp": 1687505323154,
     "user": {
      "displayName": "Meher Fatima",
      "userId": "08349742051843001487"
     },
     "user_tz": 420
    },
    "id": "GokjRFXYHC3s",
    "outputId": "a58b48f6-b269-4e1f-b5ff-b7165d81ffe2"
   },
   "outputs": [
    {
     "name": "stdout",
     "output_type": "stream",
     "text": [
      "3+4\n"
     ]
    }
   ],
   "source": [
    "print('3','4',sep='+')"
   ]
  },
  {
   "cell_type": "code",
   "execution_count": 13,
   "metadata": {
    "colab": {
     "base_uri": "https://localhost:8080/"
    },
    "executionInfo": {
     "elapsed": 5,
     "status": "ok",
     "timestamp": 1687505324416,
     "user": {
      "displayName": "Meher Fatima",
      "userId": "08349742051843001487"
     },
     "user_tz": 420
    },
    "id": "thm3VrqbHIg1",
    "outputId": "d7e26a62-87c2-4a7c-aaaa-01a898ee6dcc"
   },
   "outputs": [
    {
     "name": "stdout",
     "output_type": "stream",
     "text": [
      "A\n",
      "is a first letter\n"
     ]
    }
   ],
   "source": [
    "# using end parameter by default it is \\n\n",
    "print('A')\n",
    "print('is a first letter')"
   ]
  },
  {
   "cell_type": "code",
   "execution_count": 31,
   "metadata": {
    "colab": {
     "base_uri": "https://localhost:8080/"
    },
    "executionInfo": {
     "elapsed": 4,
     "status": "ok",
     "timestamp": 1687505325918,
     "user": {
      "displayName": "Meher Fatima",
      "userId": "08349742051843001487"
     },
     "user_tz": 420
    },
    "id": "10p354YPHT1X",
    "outputId": "e383fe72-7036-42b7-9398-eaa37e42f8fe"
   },
   "outputs": [
    {
     "name": "stdout",
     "output_type": "stream",
     "text": [
      "A is a first letter\n"
     ]
    }
   ],
   "source": [
    "print('A',end=' ')\n",
    "print('is a first letter')"
   ]
  },
  {
   "cell_type": "code",
   "execution_count": 33,
   "metadata": {},
   "outputs": [
    {
     "name": "stdout",
     "output_type": "stream",
     "text": [
      "A is a first letter\n"
     ]
    }
   ],
   "source": [
    "a = 'A'\n",
    "b = ' is a first letter'\n",
    "print (f'{a}{b}')"
   ]
  },
  {
   "cell_type": "code",
   "execution_count": null,
   "metadata": {
    "colab": {
     "base_uri": "https://localhost:8080/"
    },
    "executionInfo": {
     "elapsed": 5,
     "status": "ok",
     "timestamp": 1687505327423,
     "user": {
      "displayName": "Meher Fatima",
      "userId": "08349742051843001487"
     },
     "user_tz": 420
    },
    "id": "QXoFmpodHdwA",
    "outputId": "ff96cf0a-37ff-419d-dc0d-7b4e34450dc9"
   },
   "outputs": [],
   "source": [
    "print('A',end='-')\n",
    "print('is a first letter')"
   ]
  },
  {
   "cell_type": "code",
   "execution_count": null,
   "metadata": {
    "colab": {
     "base_uri": "https://localhost:8080/"
    },
    "executionInfo": {
     "elapsed": 3,
     "status": "ok",
     "timestamp": 1687505328827,
     "user": {
      "displayName": "Meher Fatima",
      "userId": "08349742051843001487"
     },
     "user_tz": 420
    },
    "id": "UaY5KNQlHh57",
    "outputId": "85aed1e4-7732-47b8-ec11-cc79cab5ccf6"
   },
   "outputs": [],
   "source": [
    "# to get the returntype of print()\n",
    "print(print())"
   ]
  },
  {
   "cell_type": "markdown",
   "metadata": {
    "id": "xSwcizf9Hxkz"
   },
   "source": [
    "## input()\n",
    "The input() function allows user input.\n",
    "### Syntax\n",
    "input(prompt)<br>\n",
    "prompt: A String, representing a default message before the input."
   ]
  },
  {
   "cell_type": "code",
   "execution_count": null,
   "metadata": {
    "colab": {
     "base_uri": "https://localhost:8080/"
    },
    "executionInfo": {
     "elapsed": 6736,
     "status": "ok",
     "timestamp": 1687505339352,
     "user": {
      "displayName": "Meher Fatima",
      "userId": "08349742051843001487"
     },
     "user_tz": 420
    },
    "id": "AFDV9vrTHtDx",
    "outputId": "aca33b0d-a3e5-47aa-8b0e-57bea3cba6f4"
   },
   "outputs": [],
   "source": [
    "a=input('Enter the value of a ')\n",
    "print(a)"
   ]
  },
  {
   "cell_type": "code",
   "execution_count": null,
   "metadata": {
    "colab": {
     "base_uri": "https://localhost:8080/"
    },
    "executionInfo": {
     "elapsed": 4484,
     "status": "ok",
     "timestamp": 1687505345598,
     "user": {
      "displayName": "Meher Fatima",
      "userId": "08349742051843001487"
     },
     "user_tz": 420
    },
    "id": "sLRZ7ycnIkON",
    "outputId": "b5a2be9f-0573-40e2-ffaf-12862f5693d9"
   },
   "outputs": [],
   "source": [
    "# by defalt input function takes str as input\n",
    "a=input('Enter the value of a ')\n",
    "print(a)\n",
    "print(type(a))"
   ]
  },
  {
   "cell_type": "markdown",
   "metadata": {
    "id": "DbPutFWVJEZm"
   },
   "source": [
    "### Taking multiple inputs\n",
    "Syntax : <br>\n",
    "input().split(separator, maxsplit)<br>\n"
   ]
  },
  {
   "cell_type": "code",
   "execution_count": 41,
   "metadata": {
    "colab": {
     "base_uri": "https://localhost:8080/"
    },
    "executionInfo": {
     "elapsed": 4121,
     "status": "ok",
     "timestamp": 1687505360022,
     "user": {
      "displayName": "Meher Fatima",
      "userId": "08349742051843001487"
     },
     "user_tz": 420
    },
    "id": "rj_ko_ZDIsrH",
    "outputId": "5026a180-acec-46db-9a5f-1e2df95db839"
   },
   "outputs": [
    {
     "name": "stdin",
     "output_type": "stream",
     "text": [
      "enter values seperated by space  x y\n"
     ]
    },
    {
     "name": "stdout",
     "output_type": "stream",
     "text": [
      "value of a x\n",
      "value of b y\n"
     ]
    }
   ],
   "source": [
    "a,b=input('enter values seperated by space ').split()\n",
    "print('value of a',a)\n",
    "print('value of b' ,b)"
   ]
  },
  {
   "cell_type": "code",
   "execution_count": 43,
   "metadata": {
    "colab": {
     "base_uri": "https://localhost:8080/"
    },
    "executionInfo": {
     "elapsed": 3365,
     "status": "ok",
     "timestamp": 1687505364843,
     "user": {
      "displayName": "Meher Fatima",
      "userId": "08349742051843001487"
     },
     "user_tz": 420
    },
    "id": "jiziUGnnJboE",
    "outputId": "9375410d-2368-4f2b-de6f-8eac4cf4e668"
   },
   "outputs": [
    {
     "name": "stdin",
     "output_type": "stream",
     "text": [
      "enter values seperated by ,  x,7\n"
     ]
    },
    {
     "name": "stdout",
     "output_type": "stream",
     "text": [
      "value of a x\n",
      "value of b 7\n"
     ]
    }
   ],
   "source": [
    "a,b=input('enter values seperated by , ').split(',',2)\n",
    "print('value of a',a)\n",
    "print('value of b' ,b)"
   ]
  },
  {
   "cell_type": "code",
   "execution_count": null,
   "metadata": {
    "id": "cTOWAFIMJ0SK"
   },
   "outputs": [],
   "source": []
  }
 ],
 "metadata": {
  "colab": {
   "provenance": []
  },
  "kernelspec": {
   "display_name": "Python [conda env:base] *",
   "language": "python",
   "name": "conda-base-py"
  },
  "language_info": {
   "codemirror_mode": {
    "name": "ipython",
    "version": 3
   },
   "file_extension": ".py",
   "mimetype": "text/x-python",
   "name": "python",
   "nbconvert_exporter": "python",
   "pygments_lexer": "ipython3",
   "version": "3.12.7"
  }
 },
 "nbformat": 4,
 "nbformat_minor": 4
}
