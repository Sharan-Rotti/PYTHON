{
 "cells": [
  {
   "cell_type": "markdown",
   "metadata": {
    "id": "z5lYLuPEFnMU"
   },
   "source": [
    "\n",
    "\n",
    "---\n",
    "\n",
    "\n",
    "\n",
    "---\n",
    "\n",
    "\n",
    "# Table of Contents\n",
    "\n",
    "## Strings\n",
    "1. What is Strings?\n",
    "2. What are the different ways to create a strings?\n",
    "3. String Slicing  and String Indexing\n",
    "4. String Methods\n",
    "\n",
    "---\n",
    "\n",
    "\n",
    "\n",
    "---\n"
   ]
  },
  {
   "cell_type": "markdown",
   "metadata": {
    "id": "8cR64F8PFnPC"
   },
   "source": [
    "## 1. What is String?\n",
    "  \n",
    ">-  A string is a sequence of characters.\n",
    ">- Computers do not deal with characters, they deal with numbers (binary). Even though you may see characters on    your screen, internally it is stored and manipulated as a combination of 0's and 1's.\n",
    ">-  This conversion of character to a number is called encoding, and the reverse process is decoding. ASCII and Unicode are some of the popular encoding used.\n",
    ">- Strings are Arrays\n",
    ">- Like many other popular programming languages, strings in Python are arrays of bytes representing unicode characters. However, Python does not have a character data type, a single character is simply a string with a length of 1. Square brackets can be used to access elements of the string."
   ]
  },
  {
   "cell_type": "markdown",
   "metadata": {
    "id": "p1Gh-3wnjt6N"
   },
   "source": [
    "# 2. What are the different ways to create a strings?"
   ]
  },
  {
   "cell_type": "markdown",
   "metadata": {
    "id": "N-YvoqfKFnSF"
   },
   "source": [
    ">- **Ways to create strings**\n",
    "\n",
    "```python\n",
    "### single quotes\n",
    "name = 'innomatics research labs'\n",
    "### double quotes\n",
    "name = \"innomatics research labs\"\n",
    "```\n"
   ]
  },
  {
   "cell_type": "markdown",
   "metadata": {
    "id": "ePIi09E2FnUv"
   },
   "source": [
    ">- NOTE: String, List, Array indexing in Python always begins from 0\n",
    "\n"
   ]
  },
  {
   "cell_type": "markdown",
   "metadata": {
    "id": "Wno1YEbogGzC"
   },
   "source": [
    "## 3. String Slicing and String Indexing\n",
    ">- You can return a range of characters by using the slice syntax. Specify the start index and the end index, separated by a colon, to return a part of the string.\n",
    ">- We will learn advanced slicing when we study lists. Most of the indexing and slicing operations will be similar. Remember, python lists are different than arrays."
   ]
  },
  {
   "cell_type": "markdown",
   "metadata": {
    "id": "fbb20251"
   },
   "source": [
    "- Indexing position of the each char in a string\n",
    "\n",
    "- slicing is piece of the value of a string\n",
    "\n",
    "- denoted by `[ ] `\n",
    "\n",
    "- We can access individual characters using indexing and a range of characters using slicing.\n",
    "\n",
    "- Index starts from `0.`\n",
    "\n",
    "- Trying to access a character out of index range will raise an IndexError.\n",
    "\n",
    "- The index must be an integer. We can't use float or other types, this will result into TypeError.\n",
    "\n",
    "- Python allows negative indexing for its sequences."
   ]
  },
  {
   "cell_type": "code",
   "execution_count": null,
   "metadata": {
    "id": "Xq_U910Bj1D1"
   },
   "outputs": [],
   "source": [
    "a='Innomatics'"
   ]
  },
  {
   "cell_type": "code",
   "execution_count": null,
   "metadata": {
    "colab": {
     "base_uri": "https://localhost:8080/",
     "height": 36
    },
    "executionInfo": {
     "elapsed": 7,
     "status": "ok",
     "timestamp": 1689156295851,
     "user": {
      "displayName": "Meher Fatima",
      "userId": "08349742051843001487"
     },
     "user_tz": 420
    },
    "id": "6e8a49ca",
    "outputId": "64fac311-9752-4167-e398-bc00f89725d4"
   },
   "outputs": [],
   "source": [
    "#index - location where element located\n",
    "# aceesing string elements- we can access string elements\n",
    "# by referring to their index\n",
    "a[9]\n"
   ]
  },
  {
   "cell_type": "code",
   "execution_count": null,
   "metadata": {
    "colab": {
     "base_uri": "https://localhost:8080/",
     "height": 36
    },
    "executionInfo": {
     "elapsed": 8,
     "status": "ok",
     "timestamp": 1689156297406,
     "user": {
      "displayName": "Meher Fatima",
      "userId": "08349742051843001487"
     },
     "user_tz": 420
    },
    "id": "IbF-GeThbbFR",
    "outputId": "734f79f2-3ea3-4f1c-e82e-b489d9941965"
   },
   "outputs": [],
   "source": [
    "a[0]\n"
   ]
  },
  {
   "cell_type": "code",
   "execution_count": null,
   "metadata": {
    "colab": {
     "base_uri": "https://localhost:8080/"
    },
    "executionInfo": {
     "elapsed": 6,
     "status": "ok",
     "timestamp": 1689156298499,
     "user": {
      "displayName": "Meher Fatima",
      "userId": "08349742051843001487"
     },
     "user_tz": 420
    },
    "id": "IfO8X0Hkbdc_",
    "outputId": "c1ed8a0c-97e0-4ac1-a50b-c39b122f8f91"
   },
   "outputs": [],
   "source": [
    "#len- function which returns length of a string\n",
    "len(a)"
   ]
  },
  {
   "cell_type": "code",
   "execution_count": null,
   "metadata": {
    "colab": {
     "base_uri": "https://localhost:8080/"
    },
    "executionInfo": {
     "elapsed": 390,
     "status": "ok",
     "timestamp": 1689156309604,
     "user": {
      "displayName": "Meher Fatima",
      "userId": "08349742051843001487"
     },
     "user_tz": 420
    },
    "id": "Ug5QMfGrbf6u",
    "outputId": "b56cf641-2d38-4376-93ac-0fdbef7f9749"
   },
   "outputs": [],
   "source": [
    "'mtic' in a"
   ]
  },
  {
   "cell_type": "markdown",
   "metadata": {
    "id": "GrcpKDWVbjq0"
   },
   "source": [
    ">- String Slicing -(range of indexes)\n",
    "\n",
    "```python\n",
    "[startindex : endindex]\n",
    "#note: end index is not included\n",
    "```"
   ]
  },
  {
   "cell_type": "markdown",
   "metadata": {
    "id": "7FazdLtecl5o"
   },
   "source": [
    ">- The syntax for slicing is `var[start:stop:step]`\n",
    ">- ```start:``` the beginning index of the group of elements we want to access\n",
    ">- ```stop:``` the ending index of the group of elements we want to access\n",
    ">- ```step:``` how many elements to skip, when accessing a group of elements"
   ]
  },
  {
   "cell_type": "code",
   "execution_count": null,
   "metadata": {
    "colab": {
     "base_uri": "https://localhost:8080/",
     "height": 36
    },
    "executionInfo": {
     "elapsed": 6,
     "status": "ok",
     "timestamp": 1687512612275,
     "user": {
      "displayName": "Meher Fatima",
      "userId": "08349742051843001487"
     },
     "user_tz": 420
    },
    "id": "rjHIDINLboqU",
    "outputId": "c03c4114-ac54-4ce5-c2d6-808f9b3cf2bc"
   },
   "outputs": [],
   "source": [
    "a='innomatics'\n",
    "a[0:-1]"
   ]
  },
  {
   "cell_type": "code",
   "execution_count": null,
   "metadata": {
    "colab": {
     "base_uri": "https://localhost:8080/",
     "height": 36
    },
    "executionInfo": {
     "elapsed": 7,
     "status": "ok",
     "timestamp": 1687512612660,
     "user": {
      "displayName": "Meher Fatima",
      "userId": "08349742051843001487"
     },
     "user_tz": 420
    },
    "id": "ABrMgEisbrP3",
    "outputId": "a0690b6f-4075-4a5f-a106-74e13a02f9ef"
   },
   "outputs": [],
   "source": [
    "a[-4:-1]"
   ]
  },
  {
   "cell_type": "code",
   "execution_count": null,
   "metadata": {
    "colab": {
     "base_uri": "https://localhost:8080/",
     "height": 36
    },
    "executionInfo": {
     "elapsed": 7,
     "status": "ok",
     "timestamp": 1687512614047,
     "user": {
      "displayName": "Meher Fatima",
      "userId": "08349742051843001487"
     },
     "user_tz": 420
    },
    "id": "ZDUjfwD3bs2R",
    "outputId": "9034aaa1-805a-40c7-da94-0a0d2f5df822"
   },
   "outputs": [],
   "source": [
    "a[:]"
   ]
  },
  {
   "cell_type": "code",
   "execution_count": null,
   "metadata": {
    "colab": {
     "base_uri": "https://localhost:8080/"
    },
    "executionInfo": {
     "elapsed": 4,
     "status": "ok",
     "timestamp": 1687512614469,
     "user": {
      "displayName": "Meher Fatima",
      "userId": "08349742051843001487"
     },
     "user_tz": 420
    },
    "id": "VN9ivVZbbwzW",
    "outputId": "5a2654e0-d44b-4f42-e75c-74f0c0b0d57e"
   },
   "outputs": [],
   "source": [
    "# loop throuh a string\n",
    "for i in a:\n",
    "    print(i)"
   ]
  },
  {
   "cell_type": "markdown",
   "metadata": {
    "id": "8e2e9ac5"
   },
   "source": [
    "#### string reversing"
   ]
  },
  {
   "cell_type": "code",
   "execution_count": null,
   "metadata": {
    "colab": {
     "base_uri": "https://localhost:8080/",
     "height": 36
    },
    "executionInfo": {
     "elapsed": 8,
     "status": "ok",
     "timestamp": 1687512637011,
     "user": {
      "displayName": "Meher Fatima",
      "userId": "08349742051843001487"
     },
     "user_tz": 420
    },
    "id": "a3ebd1c0",
    "outputId": "4a68cba1-d83f-4bba-a5ee-cdad079af74d"
   },
   "outputs": [],
   "source": [
    "a[::-1]"
   ]
  },
  {
   "cell_type": "code",
   "execution_count": null,
   "metadata": {
    "colab": {
     "base_uri": "https://localhost:8080/",
     "height": 36
    },
    "executionInfo": {
     "elapsed": 7,
     "status": "ok",
     "timestamp": 1687512713372,
     "user": {
      "displayName": "Meher Fatima",
      "userId": "08349742051843001487"
     },
     "user_tz": 420
    },
    "id": "e6cf86d7",
    "outputId": "ceded43b-d2e0-4afb-c207-d42dfba817f1"
   },
   "outputs": [],
   "source": [
    "a[:6:2]"
   ]
  },
  {
   "cell_type": "code",
   "execution_count": null,
   "metadata": {
    "colab": {
     "base_uri": "https://localhost:8080/",
     "height": 36
    },
    "executionInfo": {
     "elapsed": 6,
     "status": "ok",
     "timestamp": 1687512722001,
     "user": {
      "displayName": "Meher Fatima",
      "userId": "08349742051843001487"
     },
     "user_tz": 420
    },
    "id": "0847d144",
    "outputId": "346b2d9d-5a71-479d-e5d2-c01c85e00ab5"
   },
   "outputs": [],
   "source": [
    "# get the sub-string 'marg' by using negative indexing\n",
    "a[-1:-5:-1]"
   ]
  },
  {
   "cell_type": "markdown",
   "metadata": {
    "id": "55fb1529"
   },
   "source": [
    "#### Some matematical operations can be performed on strings"
   ]
  },
  {
   "cell_type": "code",
   "execution_count": null,
   "metadata": {
    "colab": {
     "base_uri": "https://localhost:8080/",
     "height": 36
    },
    "executionInfo": {
     "elapsed": 372,
     "status": "ok",
     "timestamp": 1687512726981,
     "user": {
      "displayName": "Meher Fatima",
      "userId": "08349742051843001487"
     },
     "user_tz": 420
    },
    "id": "375d4a18",
    "outputId": "d21db8eb-551d-4b0d-d31e-95d36c2e5a6a"
   },
   "outputs": [],
   "source": [
    "# If + operator is used between two strings, the two strings get added end-to-end\n",
    "# or they are appended to each other\n",
    "var = 'Hi' + 'Hello'\n",
    "var"
   ]
  },
  {
   "cell_type": "code",
   "execution_count": null,
   "metadata": {
    "colab": {
     "base_uri": "https://localhost:8080/",
     "height": 36
    },
    "executionInfo": {
     "elapsed": 371,
     "status": "ok",
     "timestamp": 1687512729874,
     "user": {
      "displayName": "Meher Fatima",
      "userId": "08349742051843001487"
     },
     "user_tz": 420
    },
    "id": "0ef61d59",
    "outputId": "a77ea854-3e18-447b-e103-eeba7a18788f"
   },
   "outputs": [],
   "source": [
    "# the * operator can be used with strings along with an inteeger. The string\n",
    "# gets appended n number of times to itself, end-to-end\n",
    "'*' * 20"
   ]
  },
  {
   "cell_type": "markdown",
   "metadata": {
    "id": "3cbec186"
   },
   "source": [
    "#### to check for the string membership\n",
    "\n",
    "To check if a sub string is a part of a main string, we'll be using the `in` keyword"
   ]
  },
  {
   "cell_type": "code",
   "execution_count": 5,
   "metadata": {
    "id": "9209156a"
   },
   "outputs": [],
   "source": [
    "var = \"innomatics\""
   ]
  },
  {
   "cell_type": "code",
   "execution_count": null,
   "metadata": {
    "colab": {
     "base_uri": "https://localhost:8080/"
    },
    "executionInfo": {
     "elapsed": 3,
     "status": "ok",
     "timestamp": 1687512738648,
     "user": {
      "displayName": "Meher Fatima",
      "userId": "08349742051843001487"
     },
     "user_tz": 420
    },
    "id": "9a153352",
    "outputId": "7d3381de-b3e6-45ca-a21f-fa0e85c3ff2f"
   },
   "outputs": [],
   "source": [
    "# check if 'matic' is a part of var\n",
    "'matic' in var"
   ]
  },
  {
   "cell_type": "code",
   "execution_count": null,
   "metadata": {
    "colab": {
     "base_uri": "https://localhost:8080/"
    },
    "executionInfo": {
     "elapsed": 4,
     "status": "ok",
     "timestamp": 1687512740048,
     "user": {
      "displayName": "Meher Fatima",
      "userId": "08349742051843001487"
     },
     "user_tz": 420
    },
    "id": "1LQyqUePa2yN",
    "outputId": "e69092dc-0cf6-499d-f183-36493292bbbf"
   },
   "outputs": [],
   "source": [
    "a=\"innomatics\"\n",
    "print(a)\n"
   ]
  },
  {
   "cell_type": "markdown",
   "metadata": {
    "id": "YorzOPBAb1EC"
   },
   "source": [
    "# 4. String methods\n",
    "\n",
    "\n"
   ]
  },
  {
   "cell_type": "markdown",
   "metadata": {
    "id": "ZOflQuLEcW3X"
   },
   "source": [
    "### Operations on strings\n",
    ">- Mathematical operations can be performed on strings\n",
    "\n"
   ]
  },
  {
   "cell_type": "code",
   "execution_count": null,
   "metadata": {
    "colab": {
     "base_uri": "https://localhost:8080/"
    },
    "executionInfo": {
     "elapsed": 417,
     "status": "ok",
     "timestamp": 1687512763768,
     "user": {
      "displayName": "Meher Fatima",
      "userId": "08349742051843001487"
     },
     "user_tz": 420
    },
    "id": "WnSTJKr3cutM",
    "outputId": "299fb1bc-5d95-41fe-a346-397d8f88f8f5"
   },
   "outputs": [],
   "source": [
    "10 + 10"
   ]
  },
  {
   "cell_type": "code",
   "execution_count": null,
   "metadata": {
    "colab": {
     "base_uri": "https://localhost:8080/",
     "height": 36
    },
    "executionInfo": {
     "elapsed": 7,
     "status": "ok",
     "timestamp": 1687512764156,
     "user": {
      "displayName": "Meher Fatima",
      "userId": "08349742051843001487"
     },
     "user_tz": 420
    },
    "id": "69Inz1-VcxJU",
    "outputId": "1128957c-9ea3-4787-ca47-6c46db4899b4"
   },
   "outputs": [],
   "source": [
    "\"abc\" + \"def\""
   ]
  },
  {
   "cell_type": "code",
   "execution_count": 11,
   "metadata": {
    "colab": {
     "base_uri": "https://localhost:8080/",
     "height": 36
    },
    "executionInfo": {
     "elapsed": 6,
     "status": "ok",
     "timestamp": 1687512765507,
     "user": {
      "displayName": "Meher Fatima",
      "userId": "08349742051843001487"
     },
     "user_tz": 420
    },
    "id": "AD0zmfrvczFV",
    "outputId": "c058756a-b126-4ff4-cbf0-a3f8eacca8ac"
   },
   "outputs": [
    {
     "data": {
      "text/plain": [
       "'abcabcabcabcabc'"
      ]
     },
     "execution_count": 11,
     "metadata": {},
     "output_type": "execute_result"
    }
   ],
   "source": [
    "\"abc\"*5"
   ]
  },
  {
   "cell_type": "markdown",
   "metadata": {
    "id": "jO9eP0suLFM-"
   },
   "source": [
    "# Remove Whitespace:\n",
    ">- Whitespace is the space before and/or after the actual text, and very often you want to remove this space.\n",
    ">- **The strip() method removes any whitespace from the beginning or the end:**\n",
    "\n",
    "```python\n",
    "\n",
    "a = \" Innomatics research labs \"\n",
    "print(a.strip()) # returns \"Innomatics research labs\"\n",
    "\n",
    "Innomatics research labs\n",
    "```"
   ]
  },
  {
   "cell_type": "markdown",
   "metadata": {
    "id": "s9cF_mvhLy-i"
   },
   "source": [
    "# Replace String:\n",
    ">- The ```replace()``` method replaces a string with another string:\n",
    "```python\n",
    "a = \"innomatics research labs\"\n",
    "print(a.replace(\"innomatics\", \"inno\"))\n",
    "inno research labs\n",
    "```"
   ]
  },
  {
   "cell_type": "code",
   "execution_count": 1,
   "metadata": {
    "colab": {
     "base_uri": "https://localhost:8080/"
    },
    "executionInfo": {
     "elapsed": 379,
     "status": "ok",
     "timestamp": 1687512771952,
     "user": {
      "displayName": "Meher Fatima",
      "userId": "08349742051843001487"
     },
     "user_tz": 420
    },
    "id": "qnN1hQSBMN0z",
    "outputId": "d6f0bd41-17d0-4b5f-d2fc-c74ac26426f3"
   },
   "outputs": [
    {
     "name": "stdout",
     "output_type": "stream",
     "text": [
      "Inno research labs\n"
     ]
    }
   ],
   "source": [
    "a = \"Innomatics research labs\"\n",
    "print(a.replace(\"Innomatics\", \"Inno\"))"
   ]
  },
  {
   "cell_type": "markdown",
   "metadata": {
    "id": "uJK6JD8VM43U"
   },
   "source": [
    "# String Concatenation:\n",
    ">- To concatenate, or combine, two strings you can use the + operator.\n",
    "\n",
    "```python\n",
    "a = \"Hello\"\n",
    "b = \"World\"\n",
    "c = a + b\n",
    "print(c)\n",
    "#returns \"hellow world\n",
    "```"
   ]
  },
  {
   "cell_type": "markdown",
   "metadata": {
    "id": "_hIodcl7RdJ6"
   },
   "source": [
    "# String Methods\n",
    ">- Python has a set of built-in methods that you can use on strings.\n",
    "\n",
    "```Note: All string methods return new values. They do not change the original string.```\n",
    "\n"
   ]
  },
  {
   "cell_type": "markdown",
   "metadata": {
    "id": "755nfX7WWtjV"
   },
   "source": [
    "|No|Method name|Description|\n",
    "|---|---|---|\n",
    "|1|\\.capitalize\\(\\)|Converts the first character to upper case|\n",
    "|2|\\.casefold\\(\\)|Converts string into lower case|\n",
    "|3|center\\(\\)|Returns a centered string|\n",
    "|4|count\\(\\)|Returns the number of times a specified value occurs in a string|\n",
    "|5|encode\\(\\)|Returns an encoded version of the string|\n",
    "|6|endswith\\(\\)|Returns true if the string ends with the specified value|\n",
    "|7|expandtabs\\(\\)|Sets the tab size of the string|\n",
    "|8|find\\(\\)|Searches the string for a specified value and returns the position of where it was found|\n",
    "|9|format\\(\\)|Formats specified values in a string|\n",
    "|10|format\\_map\\(\\)|Formats specified values in a string|\n",
    "|11|index\\(\\)|Searches the string for a specified value and returns the position of where it was found|\n",
    "|12|isalnum\\(\\)|Returns True if all characters in the string are alphanumeric|\n",
    "|13|isalpha\\(\\)|Returns True if all characters in the string are in the alphabet|\n",
    "|14|isdecimal\\(\\)|Returns True if all characters in the string are decimals|\n",
    "|15|isdigit\\(\\)|Returns True if all characters in the string are digits|\n",
    "|16|isidentifier\\(\\)|Returns True if the string is an identifier|\n",
    "|17|islower\\(\\)|Returns True if all characters in the string are lower case|\n",
    "|18|isnumeric\\(\\)|Returns True if all characters in the string are numeric|\n",
    "|19|isprintable\\(\\)|Returns True if all characters in the string are printable|\n",
    "|20|isspace\\(\\)|Returns True if all characters in the string are whitespaces|\n",
    "|21|istitle\\(\\)|Returns True if all characters in the string are upper case|\n",
    "|22|join\\(\\)|Joins the elements of an iterable to the end of the string|\n",
    "|23|ljust\\(\\)|Returns a left justified version of the string|\n",
    "|24|lower\\(\\)|Converts a string into lower case|\n",
    "|25|lstrip\\(\\)|Returns a left trim version of the string|\n",
    "|26|maketrans\\(\\)|Returns a translation table to be used in translations|\n",
    "|27|partition\\(\\)|Returns a tuple where the string is parted into three parts|\n",
    "|28|replace\\(\\)|Returns a string where a specified value is replaced with a specified value|\n",
    "|29|rfind\\(\\)|Searches the string for a specified value and returns the last position of where it was found|\n",
    "|30|rindex\\(\\)|Searches the string for a specified value and returns the last position of where it was found|\n",
    "|31|rjust\\(\\)|Returns a right justified version of the string|\n",
    "|32|rpartition\\(\\)|Returns a tuple where the string is parted into three parts|\n",
    "|33|rsplit\\(\\)|Splits the string at the specified separator, and returns a list|"
   ]
  },
  {
   "cell_type": "code",
   "execution_count": null,
   "metadata": {
    "id": "51466f55"
   },
   "outputs": [],
   "source": [
    "var = 'innomatics research labs'"
   ]
  },
  {
   "cell_type": "markdown",
   "metadata": {
    "id": "de6112b4"
   },
   "source": [
    "## len()\n",
    "-  to know the number of characters in a string"
   ]
  },
  {
   "cell_type": "code",
   "execution_count": null,
   "metadata": {
    "colab": {
     "base_uri": "https://localhost:8080/"
    },
    "executionInfo": {
     "elapsed": 7,
     "status": "ok",
     "timestamp": 1687511765961,
     "user": {
      "displayName": "Meher Fatima",
      "userId": "08349742051843001487"
     },
     "user_tz": 420
    },
    "id": "ba0e2647",
    "outputId": "532e664f-2e9f-4978-a833-2755b8f69a71"
   },
   "outputs": [],
   "source": [
    "len(var)"
   ]
  },
  {
   "cell_type": "markdown",
   "metadata": {
    "id": "dd9722e8"
   },
   "source": [
    "# upper()\n",
    "- to make all the letters in the string capitals\n"
   ]
  },
  {
   "cell_type": "code",
   "execution_count": null,
   "metadata": {
    "colab": {
     "base_uri": "https://localhost:8080/",
     "height": 36
    },
    "executionInfo": {
     "elapsed": 58,
     "status": "ok",
     "timestamp": 1687511767019,
     "user": {
      "displayName": "Meher Fatima",
      "userId": "08349742051843001487"
     },
     "user_tz": 420
    },
    "id": "5cab483c",
    "outputId": "f7ebb8f4-bd99-4c32-f236-9673fdb854a8"
   },
   "outputs": [],
   "source": [
    "var.upper()"
   ]
  },
  {
   "cell_type": "markdown",
   "metadata": {
    "id": "a8b13cd0"
   },
   "source": [
    "# lower()\n",
    "- to make all the letters in a string to lower case"
   ]
  },
  {
   "cell_type": "code",
   "execution_count": null,
   "metadata": {
    "colab": {
     "base_uri": "https://localhost:8080/",
     "height": 36
    },
    "executionInfo": {
     "elapsed": 15,
     "status": "ok",
     "timestamp": 1687511770280,
     "user": {
      "displayName": "Meher Fatima",
      "userId": "08349742051843001487"
     },
     "user_tz": 420
    },
    "id": "7d4875f0",
    "outputId": "b76866f9-9c33-42f7-8334-ab10a2aa1ea9"
   },
   "outputs": [],
   "source": [
    "var.lower()"
   ]
  },
  {
   "cell_type": "markdown",
   "metadata": {
    "id": "27a45377"
   },
   "source": [
    "# capitalize()\n",
    "- to make the starting letter in the entire string capital"
   ]
  },
  {
   "cell_type": "code",
   "execution_count": null,
   "metadata": {
    "colab": {
     "base_uri": "https://localhost:8080/",
     "height": 36
    },
    "executionInfo": {
     "elapsed": 16,
     "status": "ok",
     "timestamp": 1687511770868,
     "user": {
      "displayName": "Meher Fatima",
      "userId": "08349742051843001487"
     },
     "user_tz": 420
    },
    "id": "37df33fb",
    "outputId": "f5e9a26e-feea-431a-b6b8-d9c7bca72de9"
   },
   "outputs": [],
   "source": [
    "var.capitalize()"
   ]
  },
  {
   "cell_type": "code",
   "execution_count": null,
   "metadata": {
    "colab": {
     "base_uri": "https://localhost:8080/",
     "height": 36
    },
    "executionInfo": {
     "elapsed": 11,
     "status": "ok",
     "timestamp": 1687511770869,
     "user": {
      "displayName": "Meher Fatima",
      "userId": "08349742051843001487"
     },
     "user_tz": 420
    },
    "id": "8b6b1c41",
    "outputId": "d7a2d225-ac65-4238-863f-b21397b758c2"
   },
   "outputs": [],
   "source": [
    "var"
   ]
  },
  {
   "cell_type": "markdown",
   "metadata": {
    "id": "c9912296"
   },
   "source": [
    "#### Note: In python, when we're trying to transform strings, the change obsrved is only valid until that cell and isn't made permanent. If we want the change to be made permanent , reassign the value back into the variable"
   ]
  },
  {
   "cell_type": "code",
   "execution_count": null,
   "metadata": {
    "colab": {
     "base_uri": "https://localhost:8080/"
    },
    "executionInfo": {
     "elapsed": 6,
     "status": "ok",
     "timestamp": 1687511771404,
     "user": {
      "displayName": "Meher Fatima",
      "userId": "08349742051843001487"
     },
     "user_tz": 420
    },
    "id": "fe461b1e",
    "outputId": "37addee8-13f3-4a04-a782-700c206441e9"
   },
   "outputs": [],
   "source": [
    "print(var)\n",
    "var = var.upper()\n",
    "print(var)"
   ]
  },
  {
   "cell_type": "markdown",
   "metadata": {
    "id": "89f42534"
   },
   "source": [
    "# title()\n",
    "- if we want to make the starting letter of every word in a string to be in caps\n"
   ]
  },
  {
   "cell_type": "code",
   "execution_count": null,
   "metadata": {
    "colab": {
     "base_uri": "https://localhost:8080/",
     "height": 36
    },
    "executionInfo": {
     "elapsed": 6,
     "status": "ok",
     "timestamp": 1687511772516,
     "user": {
      "displayName": "Meher Fatima",
      "userId": "08349742051843001487"
     },
     "user_tz": 420
    },
    "id": "c61c4987",
    "outputId": "775a5976-b074-4f9e-c7a2-f0384e185133"
   },
   "outputs": [],
   "source": [
    "var.title()"
   ]
  },
  {
   "cell_type": "markdown",
   "metadata": {
    "id": "bf84af58"
   },
   "source": [
    "# count()\n",
    "-  to count the number of occurences of a sub-string in the main string"
   ]
  },
  {
   "cell_type": "code",
   "execution_count": null,
   "metadata": {
    "colab": {
     "base_uri": "https://localhost:8080/"
    },
    "executionInfo": {
     "elapsed": 4,
     "status": "ok",
     "timestamp": 1687511773369,
     "user": {
      "displayName": "Meher Fatima",
      "userId": "08349742051843001487"
     },
     "user_tz": 420
    },
    "id": "51bc6807",
    "outputId": "7d5bd673-8624-4ed6-b00d-07e86d14bf98"
   },
   "outputs": [],
   "source": [
    "var.count('A')"
   ]
  },
  {
   "cell_type": "code",
   "execution_count": null,
   "metadata": {
    "colab": {
     "base_uri": "https://localhost:8080/"
    },
    "executionInfo": {
     "elapsed": 4,
     "status": "ok",
     "timestamp": 1687511774510,
     "user": {
      "displayName": "Meher Fatima",
      "userId": "08349742051843001487"
     },
     "user_tz": 420
    },
    "id": "381a39b1",
    "outputId": "cfe8eee8-f3f0-4179-ab9e-e39d87c93be3"
   },
   "outputs": [],
   "source": [
    "var.count('a')"
   ]
  },
  {
   "cell_type": "markdown",
   "metadata": {
    "id": "05bfb639"
   },
   "source": [
    "# endswith()\n",
    "- to check whether a string is ending in the given sub-string"
   ]
  },
  {
   "cell_type": "code",
   "execution_count": null,
   "metadata": {},
   "outputs": [],
   "source": [
    "var"
   ]
  },
  {
   "cell_type": "code",
   "execution_count": null,
   "metadata": {
    "colab": {
     "base_uri": "https://localhost:8080/"
    },
    "executionInfo": {
     "elapsed": 5,
     "status": "ok",
     "timestamp": 1687511776200,
     "user": {
      "displayName": "Meher Fatima",
      "userId": "08349742051843001487"
     },
     "user_tz": 420
    },
    "id": "ce67de30",
    "outputId": "3e97180c-53a9-4677-b85b-eccf185ecbdd",
    "scrolled": true
   },
   "outputs": [],
   "source": [
    "var.endswith('bs')"
   ]
  },
  {
   "cell_type": "code",
   "execution_count": null,
   "metadata": {
    "colab": {
     "base_uri": "https://localhost:8080/"
    },
    "executionInfo": {
     "elapsed": 7,
     "status": "ok",
     "timestamp": 1687511775312,
     "user": {
      "displayName": "Meher Fatima",
      "userId": "08349742051843001487"
     },
     "user_tz": 420
    },
    "id": "5c894913",
    "outputId": "6ed2cea3-b444-4944-e047-704300c4f31e"
   },
   "outputs": [],
   "source": [
    "var.endswith('BS')"
   ]
  },
  {
   "cell_type": "markdown",
   "metadata": {
    "id": "dbff1e76"
   },
   "source": [
    "# startswith()\n",
    "- to check whether a string starts with a given sequence"
   ]
  },
  {
   "cell_type": "code",
   "execution_count": 7,
   "metadata": {
    "colab": {
     "base_uri": "https://localhost:8080/"
    },
    "executionInfo": {
     "elapsed": 4,
     "status": "ok",
     "timestamp": 1687511778248,
     "user": {
      "displayName": "Meher Fatima",
      "userId": "08349742051843001487"
     },
     "user_tz": 420
    },
    "id": "4985766b",
    "outputId": "b673ec7c-ace7-4b2e-fa08-2f0f4bb2b9e2"
   },
   "outputs": [
    {
     "data": {
      "text/plain": [
       "True"
      ]
     },
     "execution_count": 7,
     "metadata": {},
     "output_type": "execute_result"
    }
   ],
   "source": [
    "var.startswith('i')"
   ]
  },
  {
   "cell_type": "code",
   "execution_count": null,
   "metadata": {
    "colab": {
     "base_uri": "https://localhost:8080/"
    },
    "executionInfo": {
     "elapsed": 3,
     "status": "ok",
     "timestamp": 1687511779798,
     "user": {
      "displayName": "Meher Fatima",
      "userId": "08349742051843001487"
     },
     "user_tz": 420
    },
    "id": "72726a79",
    "outputId": "ae190d9d-0032-4e1b-ae69-d13bfe272716"
   },
   "outputs": [],
   "source": [
    "var.startswith('I')"
   ]
  },
  {
   "cell_type": "markdown",
   "metadata": {
    "id": "07ac8b1a"
   },
   "source": [
    "# find()\n",
    "- find() returns the index position of the starting character of the sub-string\n"
   ]
  },
  {
   "cell_type": "code",
   "execution_count": null,
   "metadata": {
    "colab": {
     "base_uri": "https://localhost:8080/"
    },
    "executionInfo": {
     "elapsed": 4,
     "status": "ok",
     "timestamp": 1687511783052,
     "user": {
      "displayName": "Meher Fatima",
      "userId": "08349742051843001487"
     },
     "user_tz": 420
    },
    "id": "c45e08fb",
    "outputId": "074cb463-7ac1-41d3-819e-3f360f384725"
   },
   "outputs": [],
   "source": [
    "# we're looking for\n",
    "var.find('research') # If no word or char found it returns -1"
   ]
  },
  {
   "cell_type": "code",
   "execution_count": null,
   "metadata": {
    "colab": {
     "base_uri": "https://localhost:8080/"
    },
    "executionInfo": {
     "elapsed": 3,
     "status": "ok",
     "timestamp": 1687511784566,
     "user": {
      "displayName": "Meher Fatima",
      "userId": "08349742051843001487"
     },
     "user_tz": 420
    },
    "id": "4993b222",
    "outputId": "00694bee-425a-409f-bd0c-7ac83baca15d"
   },
   "outputs": [],
   "source": [
    "var.find('A')"
   ]
  },
  {
   "cell_type": "code",
   "execution_count": null,
   "metadata": {
    "colab": {
     "base_uri": "https://localhost:8080/"
    },
    "executionInfo": {
     "elapsed": 4,
     "status": "ok",
     "timestamp": 1687511786107,
     "user": {
      "displayName": "Meher Fatima",
      "userId": "08349742051843001487"
     },
     "user_tz": 420
    },
    "id": "95fce614",
    "outputId": "cab2749f-6390-4302-e2b9-2abc4f516c7e"
   },
   "outputs": [],
   "source": [
    "var.find('Z')"
   ]
  },
  {
   "cell_type": "markdown",
   "metadata": {
    "id": "d551a18d"
   },
   "source": [
    "# index()\n",
    "- the index() method works similar to the find() method"
   ]
  },
  {
   "cell_type": "code",
   "execution_count": null,
   "metadata": {
    "colab": {
     "base_uri": "https://localhost:8080/"
    },
    "executionInfo": {
     "elapsed": 5,
     "status": "ok",
     "timestamp": 1687511808963,
     "user": {
      "displayName": "Meher Fatima",
      "userId": "08349742051843001487"
     },
     "user_tz": 420
    },
    "id": "0e271e3f",
    "outputId": "40080507-aea0-45c9-d4ff-669a49377362"
   },
   "outputs": [],
   "source": [
    "var.index('LABS')"
   ]
  },
  {
   "cell_type": "code",
   "execution_count": null,
   "metadata": {
    "colab": {
     "base_uri": "https://localhost:8080/"
    },
    "executionInfo": {
     "elapsed": 5,
     "status": "ok",
     "timestamp": 1687511820582,
     "user": {
      "displayName": "Meher Fatima",
      "userId": "08349742051843001487"
     },
     "user_tz": 420
    },
    "id": "c98512be",
    "outputId": "c7962669-74bd-472c-9b84-b18a930efdcf"
   },
   "outputs": [],
   "source": [
    "var.index('M')"
   ]
  },
  {
   "cell_type": "markdown",
   "metadata": {
    "id": "1aea2ea7"
   },
   "source": [
    "# isdigit()\n",
    "-  to check if the string contains numerics\n"
   ]
  },
  {
   "cell_type": "code",
   "execution_count": null,
   "metadata": {
    "colab": {
     "base_uri": "https://localhost:8080/"
    },
    "executionInfo": {
     "elapsed": 386,
     "status": "ok",
     "timestamp": 1687511825397,
     "user": {
      "displayName": "Meher Fatima",
      "userId": "08349742051843001487"
     },
     "user_tz": 420
    },
    "id": "7f768481",
    "outputId": "80f5fe38-fbac-4539-82c5-d79f56efe9f4"
   },
   "outputs": [],
   "source": [
    "var.isdigit()"
   ]
  },
  {
   "cell_type": "markdown",
   "metadata": {
    "id": "768dd535"
   },
   "source": [
    "# replace()\n",
    "- if we want to replace part of a string with a replacement"
   ]
  },
  {
   "cell_type": "code",
   "execution_count": null,
   "metadata": {
    "colab": {
     "base_uri": "https://localhost:8080/",
     "height": 36
    },
    "executionInfo": {
     "elapsed": 8,
     "status": "ok",
     "timestamp": 1687511835468,
     "user": {
      "displayName": "Meher Fatima",
      "userId": "08349742051843001487"
     },
     "user_tz": 420
    },
    "id": "bd984db0",
    "outputId": "9072ce68-e6d7-4a25-cdfa-a0f9d2d9e1df"
   },
   "outputs": [],
   "source": [
    "var.replace('A','@')"
   ]
  },
  {
   "cell_type": "code",
   "execution_count": null,
   "metadata": {
    "colab": {
     "base_uri": "https://localhost:8080/"
    },
    "executionInfo": {
     "elapsed": 367,
     "status": "ok",
     "timestamp": 1687511842057,
     "user": {
      "displayName": "Meher Fatima",
      "userId": "08349742051843001487"
     },
     "user_tz": 420
    },
    "id": "74ce229e",
    "outputId": "57a50948-cb23-4b05-fd6f-737e85a20998"
   },
   "outputs": [],
   "source": [
    "va1 = '       How are you?\\n'   # \\n > control moves to next line\n",
    "print(va1)\n",
    "va2 = 'How are you?'\n",
    "print(va2)"
   ]
  },
  {
   "cell_type": "markdown",
   "metadata": {
    "id": "6870ea25"
   },
   "source": [
    "# strip()\n",
    "- to remove any leading and trailing white spaces and new line characters"
   ]
  },
  {
   "cell_type": "code",
   "execution_count": 17,
   "metadata": {
    "colab": {
     "base_uri": "https://localhost:8080/"
    },
    "executionInfo": {
     "elapsed": 4,
     "status": "ok",
     "timestamp": 1687511844514,
     "user": {
      "displayName": "Meher Fatima",
      "userId": "08349742051843001487"
     },
     "user_tz": 420
    },
    "id": "09a94ab5",
    "outputId": "abc62201-9ec3-408f-b750-8c03e3789740"
   },
   "outputs": [
    {
     "name": "stdout",
     "output_type": "stream",
     "text": [
      "$Hello-\n",
      "$Hello\n"
     ]
    }
   ],
   "source": [
    "va3 = '$Hello-'\n",
    "print(va3)\n",
    "va3 = va3.strip('-')\n",
    "print(va3)"
   ]
  },
  {
   "cell_type": "code",
   "execution_count": null,
   "metadata": {},
   "outputs": [],
   "source": []
  },
  {
   "cell_type": "code",
   "execution_count": null,
   "metadata": {
    "colab": {
     "base_uri": "https://localhost:8080/",
     "height": 36
    },
    "executionInfo": {
     "elapsed": 6,
     "status": "ok",
     "timestamp": 1687511845852,
     "user": {
      "displayName": "Meher Fatima",
      "userId": "08349742051843001487"
     },
     "user_tz": 420
    },
    "id": "e0914091",
    "outputId": "fb30185e-5fd8-4d87-d2b9-81d79265e4a8"
   },
   "outputs": [],
   "source": [
    "va1.strip()"
   ]
  },
  {
   "cell_type": "markdown",
   "metadata": {
    "id": "d3f5f7e7"
   },
   "source": [
    "# split()\n",
    "- splitting a string into sub-strings based on default delimter(space)"
   ]
  },
  {
   "cell_type": "code",
   "execution_count": null,
   "metadata": {
    "colab": {
     "base_uri": "https://localhost:8080/"
    },
    "executionInfo": {
     "elapsed": 5,
     "status": "ok",
     "timestamp": 1687511848184,
     "user": {
      "displayName": "Meher Fatima",
      "userId": "08349742051843001487"
     },
     "user_tz": 420
    },
    "id": "c8a2f9e1",
    "outputId": "447c298e-750b-47c8-bcda-616f33f70edb"
   },
   "outputs": [],
   "source": [
    "var.split()"
   ]
  },
  {
   "cell_type": "code",
   "execution_count": null,
   "metadata": {
    "colab": {
     "base_uri": "https://localhost:8080/"
    },
    "executionInfo": {
     "elapsed": 5,
     "status": "ok",
     "timestamp": 1687511849062,
     "user": {
      "displayName": "Meher Fatima",
      "userId": "08349742051843001487"
     },
     "user_tz": 420
    },
    "id": "1726192a",
    "outputId": "c70f2d6e-55fe-4d65-9761-b52022ccaf4b"
   },
   "outputs": [],
   "source": [
    "var.split(\" \")"
   ]
  },
  {
   "cell_type": "markdown",
   "metadata": {
    "id": "4b47173e"
   },
   "source": [
    "- splitting a string into sub-strings based on given symbols or characters"
   ]
  },
  {
   "cell_type": "code",
   "execution_count": null,
   "metadata": {
    "colab": {
     "base_uri": "https://localhost:8080/"
    },
    "executionInfo": {
     "elapsed": 35,
     "status": "ok",
     "timestamp": 1687511850006,
     "user": {
      "displayName": "Meher Fatima",
      "userId": "08349742051843001487"
     },
     "user_tz": 420
    },
    "id": "064896a9",
    "outputId": "d96e69b4-1abb-4f45-a7f3-c18086a8728d"
   },
   "outputs": [],
   "source": [
    "var.split('a')"
   ]
  },
  {
   "cell_type": "code",
   "execution_count": null,
   "metadata": {
    "colab": {
     "base_uri": "https://localhost:8080/"
    },
    "executionInfo": {
     "elapsed": 31,
     "status": "ok",
     "timestamp": 1687511852182,
     "user": {
      "displayName": "Meher Fatima",
      "userId": "08349742051843001487"
     },
     "user_tz": 420
    },
    "id": "d82ea2f2",
    "outputId": "a4fe7ea8-09a0-461d-b66e-dd148e1cce2c"
   },
   "outputs": [],
   "source": [
    "var.split(',')"
   ]
  },
  {
   "cell_type": "markdown",
   "metadata": {
    "id": "648431d3"
   },
   "source": [
    "# format()\n",
    "- The format() method is used to make parts of a string dynamic"
   ]
  },
  {
   "cell_type": "code",
   "execution_count": 21,
   "metadata": {
    "colab": {
     "base_uri": "https://localhost:8080/"
    },
    "executionInfo": {
     "elapsed": 7,
     "status": "ok",
     "timestamp": 1687511852756,
     "user": {
      "displayName": "Meher Fatima",
      "userId": "08349742051843001487"
     },
     "user_tz": 420
    },
    "id": "518c5562",
    "outputId": "670bb863-1371-4831-a014-90b334be5513"
   },
   "outputs": [
    {
     "name": "stdout",
     "output_type": "stream",
     "text": [
      "Today is Wednesday\n"
     ]
    }
   ],
   "source": [
    "date = 'Today is Wednesday'\n",
    "print(date)"
   ]
  },
  {
   "cell_type": "code",
   "execution_count": 23,
   "metadata": {},
   "outputs": [
    {
     "name": "stdout",
     "output_type": "stream",
     "text": [
      "Today is Wednesday\n"
     ]
    }
   ],
   "source": [
    "print (f'{date}')"
   ]
  },
  {
   "cell_type": "code",
   "execution_count": 25,
   "metadata": {
    "colab": {
     "base_uri": "https://localhost:8080/"
    },
    "executionInfo": {
     "elapsed": 6,
     "status": "ok",
     "timestamp": 1687511852757,
     "user": {
      "displayName": "Meher Fatima",
      "userId": "08349742051843001487"
     },
     "user_tz": 420
    },
    "id": "70ed0060",
    "outputId": "f71245a0-d340-4e77-fa11-4d41d75b94dc"
   },
   "outputs": [
    {
     "name": "stdout",
     "output_type": "stream",
     "text": [
      "Today is Wednesday and it is cloudy\n"
     ]
    }
   ],
   "source": [
    "# passing the values to the placeholders using the default order\n",
    "print('Today is {} and it is {}'.format('Wednesday','cloudy'))"
   ]
  },
  {
   "cell_type": "code",
   "execution_count": 27,
   "metadata": {
    "colab": {
     "base_uri": "https://localhost:8080/"
    },
    "executionInfo": {
     "elapsed": 6,
     "status": "ok",
     "timestamp": 1687511854798,
     "user": {
      "displayName": "Meher Fatima",
      "userId": "08349742051843001487"
     },
     "user_tz": 420
    },
    "id": "769e834f",
    "outputId": "efce81c4-9507-4ab0-afaa-bb9253e581e8"
   },
   "outputs": [
    {
     "name": "stdout",
     "output_type": "stream",
     "text": [
      "Today is Wednesday and it is cloudy\n"
     ]
    }
   ],
   "source": [
    "# passing the values to the placeholders using the positional order\n",
    "print('Today is {1} and it is {0}'.format('cloudy','Wednesday'))"
   ]
  },
  {
   "cell_type": "code",
   "execution_count": 29,
   "metadata": {
    "colab": {
     "base_uri": "https://localhost:8080/"
    },
    "executionInfo": {
     "elapsed": 4,
     "status": "ok",
     "timestamp": 1687511855314,
     "user": {
      "displayName": "Meher Fatima",
      "userId": "08349742051843001487"
     },
     "user_tz": 420
    },
    "id": "965ad43a",
    "outputId": "90f65477-f4de-4ab4-a415-451fe94f8f06"
   },
   "outputs": [
    {
     "name": "stdout",
     "output_type": "stream",
     "text": [
      "Today is Wednesday and it is cloudy.It is afternoon\n"
     ]
    }
   ],
   "source": [
    "# passing the values to the placeholders using the keyword order\n",
    "print('Today is {d} and it is {w}.It is {t}'.format(w='cloudy',t='afternoon',d='Wednesday'))"
   ]
  },
  {
   "cell_type": "code",
   "execution_count": 31,
   "metadata": {
    "colab": {
     "base_uri": "https://localhost:8080/"
    },
    "executionInfo": {
     "elapsed": 6052,
     "status": "ok",
     "timestamp": 1687511868522,
     "user": {
      "displayName": "Meher Fatima",
      "userId": "08349742051843001487"
     },
     "user_tz": 420
    },
    "id": "47ce2da6",
    "outputId": "17cb361a-e37d-45a5-dc29-4979c89b54c1"
   },
   "outputs": [
    {
     "name": "stdin",
     "output_type": "stream",
     "text": [
      "Enter your name:  sHANKAR\n"
     ]
    },
    {
     "name": "stdout",
     "output_type": "stream",
     "text": [
      "How are you, Shankar?\n"
     ]
    }
   ],
   "source": [
    "name = input('Enter your name: ')\n",
    "print('How are you, {}?'.format(name.capitalize()))"
   ]
  },
  {
   "cell_type": "code",
   "execution_count": null,
   "metadata": {
    "id": "1bt1sOXZWb46"
   },
   "outputs": [],
   "source": []
  }
 ],
 "metadata": {
  "colab": {
   "provenance": []
  },
  "kernelspec": {
   "display_name": "Python 3 (ipykernel)",
   "language": "python",
   "name": "python3"
  },
  "language_info": {
   "codemirror_mode": {
    "name": "ipython",
    "version": 3
   },
   "file_extension": ".py",
   "mimetype": "text/x-python",
   "name": "python",
   "nbconvert_exporter": "python",
   "pygments_lexer": "ipython3",
   "version": "3.12.7"
  }
 },
 "nbformat": 4,
 "nbformat_minor": 4
}
